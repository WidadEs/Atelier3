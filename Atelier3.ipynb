{
 "cells": [
  {
   "cell_type": "markdown",
   "id": "3a1c3558-4dc1-4e0f-8c3f-7d275a347408",
   "metadata": {},
   "source": [
    "# PART1 : **Language Modeling / Regression**"
   ]
  },
  {
   "cell_type": "code",
   "execution_count": 1,
   "id": "be4ee5a9-e286-4bcb-a9d3-ab371acdf3d6",
   "metadata": {},
   "outputs": [],
   "source": [
    "import pandas as pd\n",
    "import re\n",
    "import nltk\n",
    "from nltk.corpus import stopwords\n",
    "from nltk.tokenize import word_tokenize\n",
    "from nltk.stem import WordNetLemmatizer\n",
    "from sklearn.feature_extraction.text import TfidfVectorizer"
   ]
  },
  {
   "cell_type": "code",
   "execution_count": 2,
   "id": "299d97f0-de9f-440a-a558-a25cc97941a1",
   "metadata": {},
   "outputs": [],
   "source": [
    "df = pd.read_csv('answers.csv')"
   ]
  },
  {
   "cell_type": "code",
   "execution_count": 3,
   "id": "b9d1b171-7853-438b-baef-ce952d335ec4",
   "metadata": {},
   "outputs": [
    {
     "data": {
      "text/html": [
       "<div>\n",
       "<style scoped>\n",
       "    .dataframe tbody tr th:only-of-type {\n",
       "        vertical-align: middle;\n",
       "    }\n",
       "\n",
       "    .dataframe tbody tr th {\n",
       "        vertical-align: top;\n",
       "    }\n",
       "\n",
       "    .dataframe thead th {\n",
       "        text-align: right;\n",
       "    }\n",
       "</style>\n",
       "<table border=\"1\" class=\"dataframe\">\n",
       "  <thead>\n",
       "    <tr style=\"text-align: right;\">\n",
       "      <th></th>\n",
       "      <th>id</th>\n",
       "      <th>answer</th>\n",
       "      <th>score</th>\n",
       "      <th>correct</th>\n",
       "    </tr>\n",
       "  </thead>\n",
       "  <tbody>\n",
       "    <tr>\n",
       "      <th>0</th>\n",
       "      <td>1.1</td>\n",
       "      <td>High risk problems are address in the prototyp...</td>\n",
       "      <td>3.5</td>\n",
       "      <td>0.0</td>\n",
       "    </tr>\n",
       "    <tr>\n",
       "      <th>1</th>\n",
       "      <td>1.1</td>\n",
       "      <td>To simulate portions of the desired final prod...</td>\n",
       "      <td>5.0</td>\n",
       "      <td>1.0</td>\n",
       "    </tr>\n",
       "    <tr>\n",
       "      <th>2</th>\n",
       "      <td>1.1</td>\n",
       "      <td>A prototype program simulates the behaviors of...</td>\n",
       "      <td>4.0</td>\n",
       "      <td>1.0</td>\n",
       "    </tr>\n",
       "    <tr>\n",
       "      <th>3</th>\n",
       "      <td>1.1</td>\n",
       "      <td>Defined in the Specification phase a prototype...</td>\n",
       "      <td>5.0</td>\n",
       "      <td>1.0</td>\n",
       "    </tr>\n",
       "    <tr>\n",
       "      <th>4</th>\n",
       "      <td>1.1</td>\n",
       "      <td>It is used to let the users have a first idea ...</td>\n",
       "      <td>3.0</td>\n",
       "      <td>0.0</td>\n",
       "    </tr>\n",
       "  </tbody>\n",
       "</table>\n",
       "</div>"
      ],
      "text/plain": [
       "    id                                             answer  score  correct\n",
       "0  1.1  High risk problems are address in the prototyp...    3.5      0.0\n",
       "1  1.1  To simulate portions of the desired final prod...    5.0      1.0\n",
       "2  1.1  A prototype program simulates the behaviors of...    4.0      1.0\n",
       "3  1.1  Defined in the Specification phase a prototype...    5.0      1.0\n",
       "4  1.1  It is used to let the users have a first idea ...    3.0      0.0"
      ]
     },
     "execution_count": 3,
     "metadata": {},
     "output_type": "execute_result"
    }
   ],
   "source": [
    "df.head()"
   ]
  },
  {
   "cell_type": "markdown",
   "id": "758a4c7e-8646-4e3d-a089-9982d56a926b",
   "metadata": {},
   "source": [
    "## NLP pipeline :"
   ]
  },
  {
   "cell_type": "markdown",
   "id": "7ab57a9a-502a-4472-ab25-7562ed7dec30",
   "metadata": {},
   "source": [
    "### Text Cleaning and Preprocessing"
   ]
  },
  {
   "cell_type": "code",
   "execution_count": 4,
   "id": "f5dd5b4c-fe3b-4af6-b5cc-a800a02ab39a",
   "metadata": {},
   "outputs": [],
   "source": [
    "def clean_text(text):\n",
    "    text = text.lower()  # Lowercase text\n",
    "    text = re.sub(r'[^\\w\\s]', '', text)  # Remove punctuation\n",
    "    text = re.sub(r'\\d+', '', text)  # Remove numbers\n",
    "    return text\n",
    "\n",
    "# Apply text cleaning\n",
    "df['cleaned_text'] = df['answer'].apply(clean_text)"
   ]
  },
  {
   "cell_type": "code",
   "execution_count": 5,
   "id": "63f497fe-56c9-485e-8a82-744260047310",
   "metadata": {},
   "outputs": [
    {
     "name": "stderr",
     "output_type": "stream",
     "text": [
      "[nltk_data] Downloading package punkt to\n",
      "[nltk_data]     C:\\Users\\USER\\AppData\\Roaming\\nltk_data...\n",
      "[nltk_data]   Package punkt is already up-to-date!\n",
      "[nltk_data] Downloading package stopwords to\n",
      "[nltk_data]     C:\\Users\\USER\\AppData\\Roaming\\nltk_data...\n",
      "[nltk_data]   Package stopwords is already up-to-date!\n",
      "[nltk_data] Downloading package wordnet to\n",
      "[nltk_data]     C:\\Users\\USER\\AppData\\Roaming\\nltk_data...\n",
      "[nltk_data]   Package wordnet is already up-to-date!\n"
     ]
    },
    {
     "data": {
      "text/plain": [
       "True"
      ]
     },
     "execution_count": 5,
     "metadata": {},
     "output_type": "execute_result"
    }
   ],
   "source": [
    "nltk.download('punkt')\n",
    "nltk.download('stopwords')\n",
    "nltk.download('wordnet')"
   ]
  },
  {
   "cell_type": "markdown",
   "id": "06e8d771-6c8b-407f-8914-ea0f3d1eafd1",
   "metadata": {},
   "source": [
    "###  Tokenization, stop words removal, and lemmatization"
   ]
  },
  {
   "cell_type": "code",
   "execution_count": 7,
   "id": "a8c5b6b0-8ec9-4785-8002-5884af1c4408",
   "metadata": {},
   "outputs": [],
   "source": [
    "df['tokens'] = df['cleaned_text'].apply(word_tokenize)"
   ]
  },
  {
   "cell_type": "code",
   "execution_count": 8,
   "id": "7e1cbd9a-cc1b-4178-9cb5-ec803438edb3",
   "metadata": {},
   "outputs": [],
   "source": [
    "stop_words = set(stopwords.words('english'))\n",
    "df['tokens'] = df['tokens'].apply(lambda x: [word for word in x if word not in stop_words])"
   ]
  },
  {
   "cell_type": "code",
   "execution_count": 9,
   "id": "01bbd731-add0-4930-8800-92ef12e6155a",
   "metadata": {},
   "outputs": [],
   "source": [
    "lemmatizer = WordNetLemmatizer()\n",
    "df['tokens'] = df['tokens'].apply(lambda x: [lemmatizer.lemmatize(word) for word in x])"
   ]
  },
  {
   "cell_type": "code",
   "execution_count": 11,
   "id": "151990fc-e790-444a-86e7-e5c595b253c8",
   "metadata": {},
   "outputs": [
    {
     "data": {
      "text/html": [
       "<div>\n",
       "<style scoped>\n",
       "    .dataframe tbody tr th:only-of-type {\n",
       "        vertical-align: middle;\n",
       "    }\n",
       "\n",
       "    .dataframe tbody tr th {\n",
       "        vertical-align: top;\n",
       "    }\n",
       "\n",
       "    .dataframe thead th {\n",
       "        text-align: right;\n",
       "    }\n",
       "</style>\n",
       "<table border=\"1\" class=\"dataframe\">\n",
       "  <thead>\n",
       "    <tr style=\"text-align: right;\">\n",
       "      <th></th>\n",
       "      <th>id</th>\n",
       "      <th>answer</th>\n",
       "      <th>score</th>\n",
       "      <th>correct</th>\n",
       "      <th>cleaned_text</th>\n",
       "      <th>tokens</th>\n",
       "    </tr>\n",
       "  </thead>\n",
       "  <tbody>\n",
       "    <tr>\n",
       "      <th>0</th>\n",
       "      <td>1.1</td>\n",
       "      <td>High risk problems are address in the prototyp...</td>\n",
       "      <td>3.5</td>\n",
       "      <td>0.0</td>\n",
       "      <td>high risk problems are address in the prototyp...</td>\n",
       "      <td>[high, risk, problem, address, prototype, prog...</td>\n",
       "    </tr>\n",
       "    <tr>\n",
       "      <th>1</th>\n",
       "      <td>1.1</td>\n",
       "      <td>To simulate portions of the desired final prod...</td>\n",
       "      <td>5.0</td>\n",
       "      <td>1.0</td>\n",
       "      <td>to simulate portions of the desired final prod...</td>\n",
       "      <td>[simulate, portion, desired, final, product, q...</td>\n",
       "    </tr>\n",
       "    <tr>\n",
       "      <th>2</th>\n",
       "      <td>1.1</td>\n",
       "      <td>A prototype program simulates the behaviors of...</td>\n",
       "      <td>4.0</td>\n",
       "      <td>1.0</td>\n",
       "      <td>a prototype program simulates the behaviors of...</td>\n",
       "      <td>[prototype, program, simulates, behavior, port...</td>\n",
       "    </tr>\n",
       "    <tr>\n",
       "      <th>3</th>\n",
       "      <td>1.1</td>\n",
       "      <td>Defined in the Specification phase a prototype...</td>\n",
       "      <td>5.0</td>\n",
       "      <td>1.0</td>\n",
       "      <td>defined in the specification phase a prototype...</td>\n",
       "      <td>[defined, specification, phase, prototype, sti...</td>\n",
       "    </tr>\n",
       "    <tr>\n",
       "      <th>4</th>\n",
       "      <td>1.1</td>\n",
       "      <td>It is used to let the users have a first idea ...</td>\n",
       "      <td>3.0</td>\n",
       "      <td>0.0</td>\n",
       "      <td>it is used to let the users have a first idea ...</td>\n",
       "      <td>[used, let, user, first, idea, completed, prog...</td>\n",
       "    </tr>\n",
       "    <tr>\n",
       "      <th>...</th>\n",
       "      <td>...</td>\n",
       "      <td>...</td>\n",
       "      <td>...</td>\n",
       "      <td>...</td>\n",
       "      <td>...</td>\n",
       "      <td>...</td>\n",
       "    </tr>\n",
       "    <tr>\n",
       "      <th>2437</th>\n",
       "      <td>12.1</td>\n",
       "      <td>log n</td>\n",
       "      <td>5.0</td>\n",
       "      <td>1.0</td>\n",
       "      <td>log n</td>\n",
       "      <td>[log, n]</td>\n",
       "    </tr>\n",
       "    <tr>\n",
       "      <th>2438</th>\n",
       "      <td>12.1</td>\n",
       "      <td>minus 1 divided by 2</td>\n",
       "      <td>1.5</td>\n",
       "      <td>0.0</td>\n",
       "      <td>minus  divided by</td>\n",
       "      <td>[minus, divided]</td>\n",
       "    </tr>\n",
       "    <tr>\n",
       "      <th>2439</th>\n",
       "      <td>12.1</td>\n",
       "      <td>2n-1</td>\n",
       "      <td>2.5</td>\n",
       "      <td>0.0</td>\n",
       "      <td>n</td>\n",
       "      <td>[n]</td>\n",
       "    </tr>\n",
       "    <tr>\n",
       "      <th>2440</th>\n",
       "      <td>12.1</td>\n",
       "      <td>it takes at most h steps, where h is the heigh...</td>\n",
       "      <td>5.0</td>\n",
       "      <td>1.0</td>\n",
       "      <td>it takes at most h steps where h is the height...</td>\n",
       "      <td>[take, h, step, h, height, tree]</td>\n",
       "    </tr>\n",
       "    <tr>\n",
       "      <th>2441</th>\n",
       "      <td>12.1</td>\n",
       "      <td>it depends on the install search tree then fro...</td>\n",
       "      <td>1.5</td>\n",
       "      <td>0.0</td>\n",
       "      <td>it depends on the install search tree then fro...</td>\n",
       "      <td>[depends, install, search, tree, whatever, cas...</td>\n",
       "    </tr>\n",
       "  </tbody>\n",
       "</table>\n",
       "<p>2442 rows × 6 columns</p>\n",
       "</div>"
      ],
      "text/plain": [
       "        id                                             answer  score  correct  \\\n",
       "0      1.1  High risk problems are address in the prototyp...    3.5      0.0   \n",
       "1      1.1  To simulate portions of the desired final prod...    5.0      1.0   \n",
       "2      1.1  A prototype program simulates the behaviors of...    4.0      1.0   \n",
       "3      1.1  Defined in the Specification phase a prototype...    5.0      1.0   \n",
       "4      1.1  It is used to let the users have a first idea ...    3.0      0.0   \n",
       "...    ...                                                ...    ...      ...   \n",
       "2437  12.1                                              log n    5.0      1.0   \n",
       "2438  12.1                               minus 1 divided by 2    1.5      0.0   \n",
       "2439  12.1                                               2n-1    2.5      0.0   \n",
       "2440  12.1  it takes at most h steps, where h is the heigh...    5.0      1.0   \n",
       "2441  12.1  it depends on the install search tree then fro...    1.5      0.0   \n",
       "\n",
       "                                           cleaned_text  \\\n",
       "0     high risk problems are address in the prototyp...   \n",
       "1     to simulate portions of the desired final prod...   \n",
       "2     a prototype program simulates the behaviors of...   \n",
       "3     defined in the specification phase a prototype...   \n",
       "4     it is used to let the users have a first idea ...   \n",
       "...                                                 ...   \n",
       "2437                                              log n   \n",
       "2438                                 minus  divided by    \n",
       "2439                                                  n   \n",
       "2440  it takes at most h steps where h is the height...   \n",
       "2441  it depends on the install search tree then fro...   \n",
       "\n",
       "                                                 tokens  \n",
       "0     [high, risk, problem, address, prototype, prog...  \n",
       "1     [simulate, portion, desired, final, product, q...  \n",
       "2     [prototype, program, simulates, behavior, port...  \n",
       "3     [defined, specification, phase, prototype, sti...  \n",
       "4     [used, let, user, first, idea, completed, prog...  \n",
       "...                                                 ...  \n",
       "2437                                           [log, n]  \n",
       "2438                                   [minus, divided]  \n",
       "2439                                                [n]  \n",
       "2440                   [take, h, step, h, height, tree]  \n",
       "2441  [depends, install, search, tree, whatever, cas...  \n",
       "\n",
       "[2442 rows x 6 columns]"
      ]
     },
     "execution_count": 11,
     "metadata": {},
     "output_type": "execute_result"
    }
   ],
   "source": [
    "df"
   ]
  },
  {
   "cell_type": "markdown",
   "id": "ddb0b355-8fa8-4a29-9b75-0b7c79410b76",
   "metadata": {},
   "source": [
    "## Word Embedding :"
   ]
  },
  {
   "cell_type": "code",
   "execution_count": 12,
   "id": "7b75afef-4447-447e-925d-d22400580b4f",
   "metadata": {},
   "outputs": [],
   "source": [
    "df['processed_text'] = df['tokens'].apply(lambda x: ' '.join(x))"
   ]
  },
  {
   "cell_type": "markdown",
   "id": "deb43b5e-02ac-4e0c-b825-0480b5a924d5",
   "metadata": {},
   "source": [
    "### Word2Vec Embedding"
   ]
  },
  {
   "cell_type": "code",
   "execution_count": 13,
   "id": "73f70eb8-75e9-4391-a314-f2a8f8d5eba7",
   "metadata": {},
   "outputs": [],
   "source": [
    "# Train Word2Vec model (CBOW)\n",
    "from gensim.models import Word2Vec\n",
    "word2vec_model = Word2Vec(sentences=df['tokens'], vector_size=100, window=5, min_count=1, sg=0)\n",
    "import numpy as np\n",
    "# Generate Word2Vec embeddings for each answer\n",
    "def get_avg_word2vec(tokens, model, vector_size):\n",
    "    vectors = [model.wv[word] for word in tokens if word in model.wv]\n",
    "    if len(vectors) == 0:\n",
    "        return [0] * vector_size\n",
    "    else:\n",
    "        return np.mean(vectors, axis=0)\n",
    "\n",
    "df['word2vec'] = df['tokens'].apply(lambda x: get_avg_word2vec(x, word2vec_model, 100))"
   ]
  },
  {
   "cell_type": "markdown",
   "id": "8f7b21cb-f2da-4101-aebb-c9396510485f",
   "metadata": {},
   "source": [
    "### Bag of Words (BoW)"
   ]
  },
  {
   "cell_type": "code",
   "execution_count": 14,
   "id": "fd7a8458-f73e-4c13-88eb-acc3cdb7cc22",
   "metadata": {},
   "outputs": [],
   "source": [
    "from sklearn.feature_extraction.text import CountVectorizer\n",
    "\n",
    "# Convert tokenized text back to string\n",
    "df['processed_text'] = df['tokens'].apply(lambda x: ' '.join(x))\n",
    "\n",
    "# Bag of Words\n",
    "vectorizer = CountVectorizer()\n",
    "bow_matrix = vectorizer.fit_transform(df['processed_text'])\n",
    "\n",
    "# Convert to DataFrame for readability\n",
    "bow_df = pd.DataFrame(bow_matrix.toarray(), columns=vectorizer.get_feature_names_out())"
   ]
  },
  {
   "cell_type": "markdown",
   "id": "83698ec7-0603-4c7e-8a34-118e8ba48ef8",
   "metadata": {},
   "source": [
    "### TF-IDF"
   ]
  },
  {
   "cell_type": "code",
   "execution_count": 15,
   "id": "d39ef54a-8d03-4950-a975-ac2fe6817e5b",
   "metadata": {},
   "outputs": [],
   "source": [
    "from sklearn.feature_extraction.text import TfidfVectorizer\n",
    "\n",
    "# TF-IDF\n",
    "tfidf_vectorizer = TfidfVectorizer()\n",
    "tfidf_matrix = tfidf_vectorizer.fit_transform(df['processed_text'])\n",
    "\n",
    "# Convert to DataFrame for readability\n",
    "tfidf_df = pd.DataFrame(tfidf_matrix.toarray(), columns=tfidf_vectorizer.get_feature_names_out())"
   ]
  },
  {
   "cell_type": "code",
   "execution_count": 16,
   "id": "24d3c614-5dfb-4306-a7ed-ad9ffbf30cdd",
   "metadata": {},
   "outputs": [
    {
     "data": {
      "text/html": [
       "<div>\n",
       "<style scoped>\n",
       "    .dataframe tbody tr th:only-of-type {\n",
       "        vertical-align: middle;\n",
       "    }\n",
       "\n",
       "    .dataframe tbody tr th {\n",
       "        vertical-align: top;\n",
       "    }\n",
       "\n",
       "    .dataframe thead th {\n",
       "        text-align: right;\n",
       "    }\n",
       "</style>\n",
       "<table border=\"1\" class=\"dataframe\">\n",
       "  <thead>\n",
       "    <tr style=\"text-align: right;\">\n",
       "      <th></th>\n",
       "      <th>id</th>\n",
       "      <th>answer</th>\n",
       "      <th>score</th>\n",
       "      <th>correct</th>\n",
       "      <th>cleaned_text</th>\n",
       "      <th>tokens</th>\n",
       "      <th>processed_text</th>\n",
       "      <th>word2vec</th>\n",
       "    </tr>\n",
       "  </thead>\n",
       "  <tbody>\n",
       "    <tr>\n",
       "      <th>0</th>\n",
       "      <td>1.1</td>\n",
       "      <td>High risk problems are address in the prototyp...</td>\n",
       "      <td>3.5</td>\n",
       "      <td>0.0</td>\n",
       "      <td>high risk problems are address in the prototyp...</td>\n",
       "      <td>[high, risk, problem, address, prototype, prog...</td>\n",
       "      <td>high risk problem address prototype program ma...</td>\n",
       "      <td>[-0.027086474, 0.18245614, -0.14354207, 0.0550...</td>\n",
       "    </tr>\n",
       "    <tr>\n",
       "      <th>1</th>\n",
       "      <td>1.1</td>\n",
       "      <td>To simulate portions of the desired final prod...</td>\n",
       "      <td>5.0</td>\n",
       "      <td>1.0</td>\n",
       "      <td>to simulate portions of the desired final prod...</td>\n",
       "      <td>[simulate, portion, desired, final, product, q...</td>\n",
       "      <td>simulate portion desired final product quick e...</td>\n",
       "      <td>[-0.024475485, 0.13776389, -0.10542582, 0.0433...</td>\n",
       "    </tr>\n",
       "    <tr>\n",
       "      <th>2</th>\n",
       "      <td>1.1</td>\n",
       "      <td>A prototype program simulates the behaviors of...</td>\n",
       "      <td>4.0</td>\n",
       "      <td>1.0</td>\n",
       "      <td>a prototype program simulates the behaviors of...</td>\n",
       "      <td>[prototype, program, simulates, behavior, port...</td>\n",
       "      <td>prototype program simulates behavior portion d...</td>\n",
       "      <td>[-0.023684526, 0.15553828, -0.12035926, 0.0453...</td>\n",
       "    </tr>\n",
       "    <tr>\n",
       "      <th>3</th>\n",
       "      <td>1.1</td>\n",
       "      <td>Defined in the Specification phase a prototype...</td>\n",
       "      <td>5.0</td>\n",
       "      <td>1.0</td>\n",
       "      <td>defined in the specification phase a prototype...</td>\n",
       "      <td>[defined, specification, phase, prototype, sti...</td>\n",
       "      <td>defined specification phase prototype stimulat...</td>\n",
       "      <td>[-0.01927483, 0.13982448, -0.10989414, 0.03960...</td>\n",
       "    </tr>\n",
       "    <tr>\n",
       "      <th>4</th>\n",
       "      <td>1.1</td>\n",
       "      <td>It is used to let the users have a first idea ...</td>\n",
       "      <td>3.0</td>\n",
       "      <td>0.0</td>\n",
       "      <td>it is used to let the users have a first idea ...</td>\n",
       "      <td>[used, let, user, first, idea, completed, prog...</td>\n",
       "      <td>used let user first idea completed program all...</td>\n",
       "      <td>[-0.018810892, 0.12005162, -0.09022401, 0.0353...</td>\n",
       "    </tr>\n",
       "    <tr>\n",
       "      <th>...</th>\n",
       "      <td>...</td>\n",
       "      <td>...</td>\n",
       "      <td>...</td>\n",
       "      <td>...</td>\n",
       "      <td>...</td>\n",
       "      <td>...</td>\n",
       "      <td>...</td>\n",
       "      <td>...</td>\n",
       "    </tr>\n",
       "    <tr>\n",
       "      <th>2437</th>\n",
       "      <td>12.1</td>\n",
       "      <td>log n</td>\n",
       "      <td>5.0</td>\n",
       "      <td>1.0</td>\n",
       "      <td>log n</td>\n",
       "      <td>[log, n]</td>\n",
       "      <td>log n</td>\n",
       "      <td>[-0.060821373, 0.13866073, -0.113988675, 0.012...</td>\n",
       "    </tr>\n",
       "    <tr>\n",
       "      <th>2438</th>\n",
       "      <td>12.1</td>\n",
       "      <td>minus 1 divided by 2</td>\n",
       "      <td>1.5</td>\n",
       "      <td>0.0</td>\n",
       "      <td>minus  divided by</td>\n",
       "      <td>[minus, divided]</td>\n",
       "      <td>minus divided</td>\n",
       "      <td>[-0.012232429, 0.07339935, -0.058990225, 0.016...</td>\n",
       "    </tr>\n",
       "    <tr>\n",
       "      <th>2439</th>\n",
       "      <td>12.1</td>\n",
       "      <td>2n-1</td>\n",
       "      <td>2.5</td>\n",
       "      <td>0.0</td>\n",
       "      <td>n</td>\n",
       "      <td>[n]</td>\n",
       "      <td>n</td>\n",
       "      <td>[-0.11685322, 0.24436928, -0.21324724, 0.01409...</td>\n",
       "    </tr>\n",
       "    <tr>\n",
       "      <th>2440</th>\n",
       "      <td>12.1</td>\n",
       "      <td>it takes at most h steps, where h is the heigh...</td>\n",
       "      <td>5.0</td>\n",
       "      <td>1.0</td>\n",
       "      <td>it takes at most h steps where h is the height...</td>\n",
       "      <td>[take, h, step, h, height, tree]</td>\n",
       "      <td>take h step h height tree</td>\n",
       "      <td>[-0.027471649, 0.18031071, -0.14815857, 0.0498...</td>\n",
       "    </tr>\n",
       "    <tr>\n",
       "      <th>2441</th>\n",
       "      <td>12.1</td>\n",
       "      <td>it depends on the install search tree then fro...</td>\n",
       "      <td>1.5</td>\n",
       "      <td>0.0</td>\n",
       "      <td>it depends on the install search tree then fro...</td>\n",
       "      <td>[depends, install, search, tree, whatever, cas...</td>\n",
       "      <td>depends install search tree whatever case repe...</td>\n",
       "      <td>[-0.031978834, 0.18653679, -0.14725517, 0.0478...</td>\n",
       "    </tr>\n",
       "  </tbody>\n",
       "</table>\n",
       "<p>2442 rows × 8 columns</p>\n",
       "</div>"
      ],
      "text/plain": [
       "        id                                             answer  score  correct  \\\n",
       "0      1.1  High risk problems are address in the prototyp...    3.5      0.0   \n",
       "1      1.1  To simulate portions of the desired final prod...    5.0      1.0   \n",
       "2      1.1  A prototype program simulates the behaviors of...    4.0      1.0   \n",
       "3      1.1  Defined in the Specification phase a prototype...    5.0      1.0   \n",
       "4      1.1  It is used to let the users have a first idea ...    3.0      0.0   \n",
       "...    ...                                                ...    ...      ...   \n",
       "2437  12.1                                              log n    5.0      1.0   \n",
       "2438  12.1                               minus 1 divided by 2    1.5      0.0   \n",
       "2439  12.1                                               2n-1    2.5      0.0   \n",
       "2440  12.1  it takes at most h steps, where h is the heigh...    5.0      1.0   \n",
       "2441  12.1  it depends on the install search tree then fro...    1.5      0.0   \n",
       "\n",
       "                                           cleaned_text  \\\n",
       "0     high risk problems are address in the prototyp...   \n",
       "1     to simulate portions of the desired final prod...   \n",
       "2     a prototype program simulates the behaviors of...   \n",
       "3     defined in the specification phase a prototype...   \n",
       "4     it is used to let the users have a first idea ...   \n",
       "...                                                 ...   \n",
       "2437                                              log n   \n",
       "2438                                 minus  divided by    \n",
       "2439                                                  n   \n",
       "2440  it takes at most h steps where h is the height...   \n",
       "2441  it depends on the install search tree then fro...   \n",
       "\n",
       "                                                 tokens  \\\n",
       "0     [high, risk, problem, address, prototype, prog...   \n",
       "1     [simulate, portion, desired, final, product, q...   \n",
       "2     [prototype, program, simulates, behavior, port...   \n",
       "3     [defined, specification, phase, prototype, sti...   \n",
       "4     [used, let, user, first, idea, completed, prog...   \n",
       "...                                                 ...   \n",
       "2437                                           [log, n]   \n",
       "2438                                   [minus, divided]   \n",
       "2439                                                [n]   \n",
       "2440                   [take, h, step, h, height, tree]   \n",
       "2441  [depends, install, search, tree, whatever, cas...   \n",
       "\n",
       "                                         processed_text  \\\n",
       "0     high risk problem address prototype program ma...   \n",
       "1     simulate portion desired final product quick e...   \n",
       "2     prototype program simulates behavior portion d...   \n",
       "3     defined specification phase prototype stimulat...   \n",
       "4     used let user first idea completed program all...   \n",
       "...                                                 ...   \n",
       "2437                                              log n   \n",
       "2438                                      minus divided   \n",
       "2439                                                  n   \n",
       "2440                          take h step h height tree   \n",
       "2441  depends install search tree whatever case repe...   \n",
       "\n",
       "                                               word2vec  \n",
       "0     [-0.027086474, 0.18245614, -0.14354207, 0.0550...  \n",
       "1     [-0.024475485, 0.13776389, -0.10542582, 0.0433...  \n",
       "2     [-0.023684526, 0.15553828, -0.12035926, 0.0453...  \n",
       "3     [-0.01927483, 0.13982448, -0.10989414, 0.03960...  \n",
       "4     [-0.018810892, 0.12005162, -0.09022401, 0.0353...  \n",
       "...                                                 ...  \n",
       "2437  [-0.060821373, 0.13866073, -0.113988675, 0.012...  \n",
       "2438  [-0.012232429, 0.07339935, -0.058990225, 0.016...  \n",
       "2439  [-0.11685322, 0.24436928, -0.21324724, 0.01409...  \n",
       "2440  [-0.027471649, 0.18031071, -0.14815857, 0.0498...  \n",
       "2441  [-0.031978834, 0.18653679, -0.14725517, 0.0478...  \n",
       "\n",
       "[2442 rows x 8 columns]"
      ]
     },
     "execution_count": 16,
     "metadata": {},
     "output_type": "execute_result"
    }
   ],
   "source": [
    "df"
   ]
  },
  {
   "cell_type": "markdown",
   "id": "85698297-3827-4782-bd9f-f330e9f45868",
   "metadata": {},
   "source": [
    "### Model Training and Evaluation"
   ]
  },
  {
   "cell_type": "code",
   "execution_count": 17,
   "id": "6f01575c-5ae5-4b24-9711-2a37405d88f4",
   "metadata": {},
   "outputs": [],
   "source": [
    "X = list(df['word2vec'])\n",
    "y = df['score']"
   ]
  },
  {
   "cell_type": "code",
   "execution_count": 18,
   "id": "e1fec2d5-a003-4156-9840-edc071ede659",
   "metadata": {},
   "outputs": [],
   "source": [
    "from sklearn.model_selection import train_test_split\n",
    "from sklearn.svm import SVR\n",
    "from sklearn.naive_bayes import GaussianNB\n",
    "from sklearn.linear_model import LinearRegression\n",
    "from sklearn.tree import DecisionTreeRegressor\n",
    "from sklearn.metrics import mean_squared_error"
   ]
  },
  {
   "cell_type": "code",
   "execution_count": 19,
   "id": "18af7a15-4830-4ec4-9d7d-a757afff60ab",
   "metadata": {},
   "outputs": [],
   "source": [
    "X_train, X_test, y_train, y_test = train_test_split(X, y, test_size=0.2, random_state=42)"
   ]
  },
  {
   "cell_type": "code",
   "execution_count": 20,
   "id": "66ef71a9-47a3-4998-9d34-c394e35794ae",
   "metadata": {},
   "outputs": [],
   "source": [
    "X_train = np.array(X_train)\n",
    "X_test = np.array(X_test)"
   ]
  },
  {
   "cell_type": "markdown",
   "id": "20f9c362-0f12-40eb-866a-0398e6d017b7",
   "metadata": {},
   "source": [
    "## SVR "
   ]
  },
  {
   "cell_type": "code",
   "execution_count": 22,
   "id": "bb32b4bf-efbb-4429-99c9-75bddf9d930d",
   "metadata": {},
   "outputs": [],
   "source": [
    "svr = SVR()\n",
    "svr.fit(X_train, y_train)\n",
    "svr_predictions = svr.predict(X_test)\n",
    "svr_mse = mean_squared_error(y_test, svr_predictions)"
   ]
  },
  {
   "cell_type": "code",
   "execution_count": 24,
   "id": "b0c5b75d-ed60-4682-be90-ba44af8278e7",
   "metadata": {},
   "outputs": [],
   "source": [
    "import matplotlib.pyplot as plt"
   ]
  },
  {
   "cell_type": "code",
   "execution_count": 25,
   "id": "86ed9b42-ddca-4dbb-b209-0e2cf61e655d",
   "metadata": {},
   "outputs": [
    {
     "data": {
      "image/png": "[encoded data removed]",
      "text/plain": [
       "<Figure size 1000x600 with 1 Axes>"
      ]
     },
     "metadata": {},
     "output_type": "display_data"
    }
   ],
   "source": [
    "# Tracer le graphe\n",
    "plt.figure(figsize=(10, 6))\n",
    "plt.bar(range(len(y_test)), y_test, alpha=0.5, color='blue', label='Valeurs Réelles')\n",
    "plt.bar(range(len(y_test)), svr_predictions, alpha=0.5, color='red', label='Prédictions')\n",
    "plt.xlabel('Échantillons de Test')\n",
    "plt.ylabel('Valeurs')\n",
    "plt.title('Comparaison des Prédictions SVR vs Réelles')\n",
    "plt.legend()\n",
    "plt.show()"
   ]
  },
  {
   "cell_type": "markdown",
   "id": "d147b2f8-6afb-49af-8685-ea71be2f4cfe",
   "metadata": {},
   "source": [
    "## NB "
   ]
  },
  {
   "cell_type": "code",
   "execution_count": 29,
   "id": "6094e7d7-cdfb-4644-8861-fb487c5bba8b",
   "metadata": {},
   "outputs": [],
   "source": [
    "y_discrete = pd.qcut(y, q=4, labels=False, duplicates='drop') # Discretize into 4 quantiles\n",
    "X_train_discrete, X_test_discrete, y_train_discrete, y_test_discrete = train_test_split(X, y_discrete, test_size=0.2, random_state=42)\n",
    "X_train_discrete = np.array(X_train_discrete)\n",
    "X_test_discrete = np.array(X_test_discrete)"
   ]
  },
  {
   "cell_type": "code",
   "execution_count": 30,
   "id": "2786e257-d13c-4730-a690-da95585d7204",
   "metadata": {},
   "outputs": [],
   "source": [
    "nb = GaussianNB()\n",
    "nb.fit(X_train_discrete, y_train_discrete)\n",
    "nb_predictions = nb.predict(X_test_discrete)\n",
    "nb_mse = mean_squared_error(y_test_discrete, nb_predictions)"
   ]
  },
  {
   "cell_type": "code",
   "execution_count": 31,
   "id": "2a59f406-752e-45d5-88a2-f97c8e14950f",
   "metadata": {},
   "outputs": [],
   "source": [
    "import seaborn as sns"
   ]
  },
  {
   "cell_type": "code",
   "execution_count": 32,
   "id": "d2ed6012-3b2f-44ad-84b4-9b28d3039f82",
   "metadata": {},
   "outputs": [
    {
     "data": {
      "image/png": "[encoded data removed]",
      "text/plain": [
       "<Figure size 800x600 with 1 Axes>"
      ]
     },
     "metadata": {},
     "output_type": "display_data"
    }
   ],
   "source": [
    "# Tracer le graphique\n",
    "plt.figure(figsize=(8, 6))\n",
    "sns.histplot(y_test_discrete, color='blue', alpha=0.5, label='Valeurs Réelles', kde=True)\n",
    "sns.histplot(nb_predictions, color='red', alpha=0.5, label='Prédictions Gaussian NB', kde=True)\n",
    "plt.xlabel('Classes')\n",
    "plt.ylabel('Fréquence')\n",
    "plt.title('Comparaison des Prédictions Gaussian NB vs Réelles')\n",
    "plt.legend()\n",
    "plt.grid(True)\n",
    "plt.show()"
   ]
  },
  {
   "cell_type": "markdown",
   "id": "942028d4-10b0-4193-9eff-fdd6d813ac8e",
   "metadata": {},
   "source": [
    "## LR "
   ]
  },
  {
   "cell_type": "code",
   "execution_count": 33,
   "id": "af31035a-90ba-4f23-8a17-e927b9036c11",
   "metadata": {},
   "outputs": [],
   "source": [
    "lr = LinearRegression()\n",
    "lr.fit(X_train, y_train)\n",
    "lr_predictions = lr.predict(X_test)\n",
    "lr_mse = mean_squared_error(y_test, lr_predictions)"
   ]
  },
  {
   "cell_type": "code",
   "execution_count": 34,
   "id": "120811e0-0211-47f6-bb3e-fe10068735a6",
   "metadata": {},
   "outputs": [
    {
     "data": {
      "image/png": "[encoded data removed]",
      "text/plain": [
       "<Figure size 800x600 with 1 Axes>"
      ]
     },
     "metadata": {},
     "output_type": "display_data"
    }
   ],
   "source": [
    "# Tracer le graphique de dispersion\n",
    "plt.figure(figsize=(8, 6))\n",
    "plt.scatter(y_test, lr_predictions, color='blue', alpha=0.7)\n",
    "plt.plot([min(y_test), max(y_test)], [min(y_test), max(y_test)], color='red', linestyle='--', linewidth=2)\n",
    "plt.xlabel('Valeurs Réelles')\n",
    "plt.ylabel('Prédictions')\n",
    "plt.title('Comparaison des Prédictions Régression Linéaire vs Réelles')\n",
    "plt.grid(True)\n",
    "plt.show()"
   ]
  },
  {
   "cell_type": "markdown",
   "id": "f26f139e-9857-43a3-a7d7-ba3a700e32d4",
   "metadata": {},
   "source": [
    "## DT "
   ]
  },
  {
   "cell_type": "code",
   "execution_count": 35,
   "id": "9546957f-279e-4daf-8361-4cca1e59165f",
   "metadata": {},
   "outputs": [],
   "source": [
    "dt = DecisionTreeRegressor()\n",
    "dt.fit(X_train, y_train)\n",
    "dt_predictions = dt.predict(X_test)\n",
    "dt_mse = mean_squared_error(y_test, dt_predictions)"
   ]
  },
  {
   "cell_type": "code",
   "execution_count": 36,
   "id": "82d0283a-843d-4a57-885d-06a8fc372b75",
   "metadata": {},
   "outputs": [
    {
     "data": {
      "image/png": "[encoded data removed]",
      "text/plain": [
       "<Figure size 800x600 with 1 Axes>"
      ]
     },
     "metadata": {},
     "output_type": "display_data"
    }
   ],
   "source": [
    "# Tracer le graphique de dispersion\n",
    "plt.figure(figsize=(8, 6))\n",
    "plt.scatter(y_test, dt_predictions, color='blue', alpha=0.7)\n",
    "plt.plot([min(y_test), max(y_test)], [min(y_test), max(y_test)], color='red', linestyle='--', linewidth=2)\n",
    "plt.xlabel('Valeurs Réelles')\n",
    "plt.ylabel('Prédictions')\n",
    "plt.title('Comparaison des Prédictions Arbre de Décision vs Réelles')\n",
    "plt.grid(True)\n",
    "plt.show()"
   ]
  },
  {
   "cell_type": "code",
   "execution_count": 37,
   "id": "f1d6f4a0-408d-402c-aec1-eeac2ff76f3d",
   "metadata": {},
   "outputs": [
    {
     "name": "stdout",
     "output_type": "stream",
     "text": [
      "SVR - MSE: 1.7748, RMSE: 1.3322\n",
      "Naive Bayes (discretized) - MSE: 12.3351, RMSE: 3.5121\n",
      "Linear Regression - MSE: 1.1614, RMSE: 1.0777\n",
      "Decision Tree - MSE: 1.7316, RMSE: 1.3159\n"
     ]
    }
   ],
   "source": [
    "from sklearn.metrics import mean_squared_error\n",
    "import numpy as np\n",
    "\n",
    "# Calculate MSE and RMSE for each model\n",
    "models = {\n",
    "    \"SVR\": svr_predictions,\n",
    "    \"Naive Bayes (discretized)\": nb_predictions,\n",
    "    \"Linear Regression\": lr_predictions,\n",
    "    \"Decision Tree\": dt_predictions\n",
    "}\n",
    "\n",
    "mse_results = {}\n",
    "rmse_results = {}\n",
    "\n",
    "for name, predictions in models.items():\n",
    "    mse = mean_squared_error(y_test, predictions)\n",
    "    rmse = np.sqrt(mse)\n",
    "    mse_results[name] = mse\n",
    "    rmse_results[name] = rmse\n",
    "\n",
    "# Print the results\n",
    "for name in models.keys():\n",
    "    print(f\"{name} - MSE: {mse_results[name]:.4f}, RMSE: {rmse_results[name]:.4f}\")\n"
   ]
  },
  {
   "cell_type": "code",
   "execution_count": 40,
   "id": "3a8e688c-48a3-4e11-9b70-0fc852128445",
   "metadata": {},
   "outputs": [
    {
     "data": {
      "image/png": "[encoded data removed]",
      "text/plain": [
       "<Figure size 800x800 with 2 Axes>"
      ]
     },
     "metadata": {},
     "output_type": "display_data"
    }
   ],
   "source": [
    "import matplotlib.pyplot as plt\n",
    "\n",
    "# Define the names and results for each model\n",
    "model_names = list(models.keys())\n",
    "mse_values = list(mse_results.values())\n",
    "rmse_values = list(rmse_results.values())\n",
    "\n",
    "# Calculate total errors\n",
    "total_mse = sum(mse_values)\n",
    "total_rmse = sum(rmse_values)\n",
    "\n",
    "# Plotting\n",
    "plt.figure(figsize=(8, 8))\n",
    "\n",
    "# Plot pie chart for MSE\n",
    "plt.subplot(1, 2, 1)\n",
    "plt.pie(mse_values, labels=model_names, autopct='%1.1f%%', startangle=140, colors=['red', 'green', 'blue', 'orange'])\n",
    "plt.title('MSE Distribution')\n",
    "\n",
    "# Plot pie chart for RMSE\n",
    "plt.subplot(1, 2, 2)\n",
    "plt.pie(rmse_values, labels=model_names, autopct='%1.1f%%', startangle=140, colors=['red', 'green', 'blue', 'orange'])\n",
    "plt.title('RMSE Distribution')\n",
    "\n",
    "plt.suptitle('Comparison of Model Performance')\n",
    "plt.tight_layout()\n",
    "plt.show()\n"
   ]
  },
  {
   "cell_type": "markdown",
   "id": "a7603d55-b9e3-4ea3-b2bd-e4cae1c08ed9",
   "metadata": {},
   "source": [
    "## **Model Evaluation Interpretation**\n",
    "\n",
    "Based on the Mean Squared Error (MSE) and Root Mean Squared Error (RMSE) metrics, it is evident that Linear Regression outperforms the other evaluated algorithms for this dataset. Here's why:\n",
    "\n",
    "- **Lowest Error Values**: Linear Regression has the lowest MSE and RMSE values among the evaluated models. This indicates that its predictions are the closest to the actual values compared to the other models.\n",
    "\n",
    "- **Effective Relationship Capture**: The results suggest that the Linear Regression model effectively captures the underlying relationships between the features and the target variable. This ability to model the data more accurately contributes to its superior performance.\n",
    "\n",
    "In conclusion, the low error values and effective relationship capture make Linear Regression the preferred choice for predictive modeling on this dataset. However, it's essential to consider other factors such as model assumptions, computational efficiency, and interpretability when selecting the final model.\n"
   ]
  },
  {
   "cell_type": "markdown",
   "id": "becfdf09-7451-448f-84ed-7d097c4ffcf2",
   "metadata": {},
   "source": [
    "# PART2 : **Language Modeling / Classification**"
   ]
  },
  {
   "cell_type": "code",
   "execution_count": 42,
   "id": "c7bd38d0-2f96-403a-9aa0-6c7e8581b4bf",
   "metadata": {},
   "outputs": [],
   "source": [
    "import pandas as pd\n",
    "import re\n",
    "import nltk\n",
    "from nltk.corpus import stopwords\n",
    "from nltk.tokenize import word_tokenize\n",
    "from nltk.stem import WordNetLemmatizer"
   ]
  },
  {
   "cell_type": "code",
   "execution_count": 43,
   "id": "775692bd-4688-4639-ac64-d36cb66002ac",
   "metadata": {},
   "outputs": [],
   "source": [
    "train_df = pd.read_csv(\"twitter_training.csv\")\n",
    "val_df = pd.read_csv(\"twitter_validation.csv\")"
   ]
  },
  {
   "cell_type": "code",
   "execution_count": 45,
   "id": "e61f5303-6552-41a1-a6a1-9be044cf9a55",
   "metadata": {},
   "outputs": [],
   "source": [
    "train_df.columns = ['ID', 'Entity', 'Sentiment', 'Text']\n",
    "val_df.columns = ['ID', 'Entity', 'Sentiment', 'Text']"
   ]
  },
  {
   "cell_type": "code",
   "execution_count": 46,
   "id": "858cf427-f983-4261-ada6-d1f46fcc39e6",
   "metadata": {},
   "outputs": [],
   "source": [
    "train_df.dropna(subset=['Text'], inplace=True)\n",
    "val_df.dropna(subset=['Text'], inplace=True)"
   ]
  },
  {
   "cell_type": "code",
   "execution_count": 47,
   "id": "37324905-5f06-46c7-9011-8a6c23ec34dc",
   "metadata": {},
   "outputs": [
    {
     "data": {
      "text/html": [
       "<div>\n",
       "<style scoped>\n",
       "    .dataframe tbody tr th:only-of-type {\n",
       "        vertical-align: middle;\n",
       "    }\n",
       "\n",
       "    .dataframe tbody tr th {\n",
       "        vertical-align: top;\n",
       "    }\n",
       "\n",
       "    .dataframe thead th {\n",
       "        text-align: right;\n",
       "    }\n",
       "</style>\n",
       "<table border=\"1\" class=\"dataframe\">\n",
       "  <thead>\n",
       "    <tr style=\"text-align: right;\">\n",
       "      <th></th>\n",
       "      <th>ID</th>\n",
       "      <th>Entity</th>\n",
       "      <th>Sentiment</th>\n",
       "      <th>Text</th>\n",
       "    </tr>\n",
       "  </thead>\n",
       "  <tbody>\n",
       "    <tr>\n",
       "      <th>0</th>\n",
       "      <td>2401</td>\n",
       "      <td>Borderlands</td>\n",
       "      <td>Positive</td>\n",
       "      <td>I am coming to the borders and I will kill you...</td>\n",
       "    </tr>\n",
       "    <tr>\n",
       "      <th>1</th>\n",
       "      <td>2401</td>\n",
       "      <td>Borderlands</td>\n",
       "      <td>Positive</td>\n",
       "      <td>im getting on borderlands and i will kill you ...</td>\n",
       "    </tr>\n",
       "    <tr>\n",
       "      <th>2</th>\n",
       "      <td>2401</td>\n",
       "      <td>Borderlands</td>\n",
       "      <td>Positive</td>\n",
       "      <td>im coming on borderlands and i will murder you...</td>\n",
       "    </tr>\n",
       "    <tr>\n",
       "      <th>3</th>\n",
       "      <td>2401</td>\n",
       "      <td>Borderlands</td>\n",
       "      <td>Positive</td>\n",
       "      <td>im getting on borderlands 2 and i will murder ...</td>\n",
       "    </tr>\n",
       "    <tr>\n",
       "      <th>4</th>\n",
       "      <td>2401</td>\n",
       "      <td>Borderlands</td>\n",
       "      <td>Positive</td>\n",
       "      <td>im getting into borderlands and i can murder y...</td>\n",
       "    </tr>\n",
       "    <tr>\n",
       "      <th>...</th>\n",
       "      <td>...</td>\n",
       "      <td>...</td>\n",
       "      <td>...</td>\n",
       "      <td>...</td>\n",
       "    </tr>\n",
       "    <tr>\n",
       "      <th>74676</th>\n",
       "      <td>9200</td>\n",
       "      <td>Nvidia</td>\n",
       "      <td>Positive</td>\n",
       "      <td>Just realized that the Windows partition of my...</td>\n",
       "    </tr>\n",
       "    <tr>\n",
       "      <th>74677</th>\n",
       "      <td>9200</td>\n",
       "      <td>Nvidia</td>\n",
       "      <td>Positive</td>\n",
       "      <td>Just realized that my Mac window partition is ...</td>\n",
       "    </tr>\n",
       "    <tr>\n",
       "      <th>74678</th>\n",
       "      <td>9200</td>\n",
       "      <td>Nvidia</td>\n",
       "      <td>Positive</td>\n",
       "      <td>Just realized the windows partition of my Mac ...</td>\n",
       "    </tr>\n",
       "    <tr>\n",
       "      <th>74679</th>\n",
       "      <td>9200</td>\n",
       "      <td>Nvidia</td>\n",
       "      <td>Positive</td>\n",
       "      <td>Just realized between the windows partition of...</td>\n",
       "    </tr>\n",
       "    <tr>\n",
       "      <th>74680</th>\n",
       "      <td>9200</td>\n",
       "      <td>Nvidia</td>\n",
       "      <td>Positive</td>\n",
       "      <td>Just like the windows partition of my Mac is l...</td>\n",
       "    </tr>\n",
       "  </tbody>\n",
       "</table>\n",
       "<p>73995 rows × 4 columns</p>\n",
       "</div>"
      ],
      "text/plain": [
       "         ID       Entity Sentiment  \\\n",
       "0      2401  Borderlands  Positive   \n",
       "1      2401  Borderlands  Positive   \n",
       "2      2401  Borderlands  Positive   \n",
       "3      2401  Borderlands  Positive   \n",
       "4      2401  Borderlands  Positive   \n",
       "...     ...          ...       ...   \n",
       "74676  9200       Nvidia  Positive   \n",
       "74677  9200       Nvidia  Positive   \n",
       "74678  9200       Nvidia  Positive   \n",
       "74679  9200       Nvidia  Positive   \n",
       "74680  9200       Nvidia  Positive   \n",
       "\n",
       "                                                    Text  \n",
       "0      I am coming to the borders and I will kill you...  \n",
       "1      im getting on borderlands and i will kill you ...  \n",
       "2      im coming on borderlands and i will murder you...  \n",
       "3      im getting on borderlands 2 and i will murder ...  \n",
       "4      im getting into borderlands and i can murder y...  \n",
       "...                                                  ...  \n",
       "74676  Just realized that the Windows partition of my...  \n",
       "74677  Just realized that my Mac window partition is ...  \n",
       "74678  Just realized the windows partition of my Mac ...  \n",
       "74679  Just realized between the windows partition of...  \n",
       "74680  Just like the windows partition of my Mac is l...  \n",
       "\n",
       "[73995 rows x 4 columns]"
      ]
     },
     "execution_count": 47,
     "metadata": {},
     "output_type": "execute_result"
    }
   ],
   "source": [
    "train_df"
   ]
  },
  {
   "cell_type": "markdown",
   "id": "c766a1dc-88b3-4ff8-baff-4388e3c3c5e6",
   "metadata": {},
   "source": [
    "## **Preprocessing Pipeline**"
   ]
  },
  {
   "cell_type": "code",
   "execution_count": 48,
   "id": "49d900f5-439d-47ef-946e-6789baa83d15",
   "metadata": {},
   "outputs": [],
   "source": [
    "def preprocess_text(text):\n",
    "    text = text.lower()  # Convert text to lowercase\n",
    "    text = re.sub(r'\\W', ' ', text)  # Remove non-word characters\n",
    "    text = re.sub(r'\\s+', ' ', text)  # Remove extra whitespace\n",
    "    return text\n",
    "\n",
    "def tokenize(text):\n",
    "    return word_tokenize(text)\n",
    "\n",
    "def remove_stopwords(tokens):\n",
    "    stop_words = set(stopwords.words('english'))\n",
    "    return [word for word in tokens if word not in stop_words]\n",
    "\n",
    "def lemmatize(tokens):\n",
    "    lemmatizer = WordNetLemmatizer()\n",
    "    return [lemmatizer.lemmatize(word) for word in tokens]"
   ]
  },
  {
   "cell_type": "code",
   "execution_count": 49,
   "id": "56dabadd-0a50-4534-8eea-f3812a914279",
   "metadata": {},
   "outputs": [],
   "source": [
    "train_df['cleaned_text'] = train_df['Text'].apply(preprocess_text)\n",
    "val_df['cleaned_text'] = val_df['Text'].apply(preprocess_text)"
   ]
  },
  {
   "cell_type": "code",
   "execution_count": 50,
   "id": "c12bd60a-13d5-4273-aa86-b89eae9608ba",
   "metadata": {},
   "outputs": [],
   "source": [
    "train_df['tokens'] = train_df['cleaned_text'].apply(tokenize)\n",
    "val_df['tokens'] = val_df['cleaned_text'].apply(tokenize)"
   ]
  },
  {
   "cell_type": "code",
   "execution_count": 51,
   "id": "eea7d30a-bae9-4742-9cbf-29012c7d652c",
   "metadata": {},
   "outputs": [],
   "source": [
    "train_df['tokens'] = train_df['tokens'].apply(remove_stopwords)\n",
    "val_df['tokens'] = val_df['tokens'].apply(remove_stopwords)"
   ]
  },
  {
   "cell_type": "code",
   "execution_count": 52,
   "id": "3f6fadc0-c4e2-4c7a-ab4a-6166866872c3",
   "metadata": {},
   "outputs": [],
   "source": [
    "train_df['tokens'] = train_df['tokens'].apply(lemmatize)\n",
    "val_df['tokens'] = val_df['tokens'].apply(lemmatize)"
   ]
  },
  {
   "cell_type": "markdown",
   "id": "2baa75c2-4413-4076-bb8f-fa83cf30f570",
   "metadata": {},
   "source": [
    "## **Encode Data Vectors**"
   ]
  },
  {
   "cell_type": "markdown",
   "id": "10acae2c-4f9c-4534-8bd4-6ac43cfba564",
   "metadata": {},
   "source": [
    "### Word2Vec"
   ]
  },
  {
   "cell_type": "code",
   "execution_count": 53,
   "id": "e42aae83-6ffc-4b05-a1f6-5dea48749745",
   "metadata": {},
   "outputs": [],
   "source": [
    "from sklearn.feature_extraction.text import CountVectorizer, TfidfVectorizer\n",
    "from gensim.models import Word2Vec\n",
    "import numpy as np"
   ]
  },
  {
   "cell_type": "code",
   "execution_count": 54,
   "id": "b5048ed2-ea60-4272-a139-9abc421a4b30",
   "metadata": {},
   "outputs": [],
   "source": [
    "word2vec_model = Word2Vec(sentences=train_df['tokens'], vector_size=100, window=5, min_count=1, sg=0)\n",
    "\n",
    "# Function to get word embeddings\n",
    "def get_word_embedding(tokens, model):\n",
    "    embeddings = []\n",
    "    for word in tokens:\n",
    "        if word in model.wv:\n",
    "            embeddings.append(model.wv[word])\n",
    "    if embeddings:\n",
    "        return np.mean(embeddings, axis=0)\n",
    "    else:\n",
    "        return np.zeros(model.vector_size)  # Return zero vector if no embeddings found\n",
    "\n",
    "# Apply word embeddings\n",
    "train_word2vec = train_df['tokens'].apply(lambda x: get_word_embedding(x, word2vec_model))\n",
    "val_word2vec = val_df['tokens'].apply(lambda x: get_word_embedding(x, word2vec_model))\n"
   ]
  },
  {
   "cell_type": "markdown",
   "id": "e2c3689f-30b8-46ec-8440-a63b410cbb25",
   "metadata": {},
   "source": [
    "### Bag of Words"
   ]
  },
  {
   "cell_type": "code",
   "execution_count": 55,
   "id": "e1f5dd92-605e-4dbb-9620-7bd3edd9acea",
   "metadata": {},
   "outputs": [],
   "source": [
    "vectorizer = CountVectorizer()\n",
    "train_bow = vectorizer.fit_transform(train_df['cleaned_text'])\n",
    "val_bow = vectorizer.transform(val_df['cleaned_text'])"
   ]
  },
  {
   "cell_type": "markdown",
   "id": "c6156766-f137-4424-bd7a-93bc8b4fbef2",
   "metadata": {},
   "source": [
    "### TF-IDF"
   ]
  },
  {
   "cell_type": "code",
   "execution_count": 56,
   "id": "dbaf27be-3370-4052-abc0-bf5cf7b00481",
   "metadata": {},
   "outputs": [],
   "source": [
    "tfidf_vectorizer = TfidfVectorizer()\n",
    "train_tfidf = tfidf_vectorizer.fit_transform(train_df['cleaned_text'])\n",
    "val_tfidf = tfidf_vectorizer.transform(val_df['cleaned_text'])"
   ]
  },
  {
   "cell_type": "markdown",
   "id": "8d02a472-b871-42b7-aad4-b21bd30c0c75",
   "metadata": {},
   "source": [
    "# **Train Models**"
   ]
  },
  {
   "cell_type": "code",
   "execution_count": 57,
   "id": "b25d8ed3-25a9-4051-a8fe-8674c3c76411",
   "metadata": {},
   "outputs": [],
   "source": [
    "X_train = np.vstack(train_word2vec)\n",
    "X_val = np.vstack(val_word2vec)"
   ]
  },
  {
   "cell_type": "code",
   "execution_count": 58,
   "id": "42c7d4db-f039-499a-812d-57a4611dab20",
   "metadata": {},
   "outputs": [],
   "source": [
    "y_train = train_df['Sentiment'].values\n",
    "y_val = val_df['Sentiment'].values"
   ]
  },
  {
   "cell_type": "code",
   "execution_count": 59,
   "id": "f7f13a64-61dc-4ee6-adb8-6c1800c60f6e",
   "metadata": {},
   "outputs": [],
   "source": [
    "from sklearn.metrics import classification_report\n",
    "from sklearn.naive_bayes import GaussianNB\n",
    "from sklearn.model_selection import train_test_split\n",
    "from sklearn.metrics import accuracy_score, f1_score, classification_report\n",
    "from sklearn.svm import SVC\n",
    "from sklearn.naive_bayes import MultinomialNB\n",
    "from sklearn.linear_model import LogisticRegression\n",
    "from sklearn.ensemble import AdaBoostClassifier"
   ]
  },
  {
   "cell_type": "code",
   "execution_count": 60,
   "id": "b7ff2a73-7799-4547-a55a-2ac42de676c0",
   "metadata": {},
   "outputs": [],
   "source": [
    "svm = SVC(kernel='linear')\n",
    "svm.fit(X_train, y_train)\n",
    "svm_pred = svm.predict(X_val)"
   ]
  },
  {
   "cell_type": "code",
   "execution_count": 61,
   "id": "88a346e8-3f26-4481-96e1-3527e5379887",
   "metadata": {},
   "outputs": [
    {
     "name": "stdout",
     "output_type": "stream",
     "text": [
      "SVM Accuracy: 0.5535535535535535\n"
     ]
    }
   ],
   "source": [
    "# Calculate accuracy\n",
    "svm_accuracy = accuracy_score(y_val, svm_pred)\n",
    "print(\"SVM Accuracy:\", svm_accuracy)"
   ]
  },
  {
   "cell_type": "code",
   "execution_count": 62,
   "id": "810971a1-0132-4708-ad79-ae4aa966d739",
   "metadata": {},
   "outputs": [
    {
     "name": "stdout",
     "output_type": "stream",
     "text": [
      "\n",
      "Classification Report for SVM:\n",
      "              precision    recall  f1-score   support\n",
      "\n",
      "  Irrelevant       0.53      0.17      0.26       171\n",
      "    Negative       0.52      0.71      0.60       266\n",
      "     Neutral       0.58      0.56      0.57       285\n",
      "    Positive       0.58      0.63      0.60       277\n",
      "\n",
      "    accuracy                           0.55       999\n",
      "   macro avg       0.55      0.52      0.51       999\n",
      "weighted avg       0.55      0.55      0.53       999\n",
      "\n"
     ]
    }
   ],
   "source": [
    "print(\"\\nClassification Report for SVM:\")\n",
    "print(classification_report(y_val, svm_pred))"
   ]
  },
  {
   "cell_type": "code",
   "execution_count": 63,
   "id": "b03c7359-25b2-4646-b269-69210e22163f",
   "metadata": {},
   "outputs": [],
   "source": [
    "# Naive Bayes classifier\n",
    "naive_bayes_classifier = GaussianNB()\n",
    "naive_bayes_classifier.fit(X_train, y_train)\n",
    "naive_bayes_predictions = naive_bayes_classifier.predict(X_val)"
   ]
  },
  {
   "cell_type": "code",
   "execution_count": 64,
   "id": "21c2a3c8-fd7d-4a12-9772-408838e0b43f",
   "metadata": {},
   "outputs": [
    {
     "name": "stdout",
     "output_type": "stream",
     "text": [
      "Naive Bayes Accuracy: 0.4754754754754755\n"
     ]
    }
   ],
   "source": [
    "naive_bayes_accuracy = accuracy_score(y_val, naive_bayes_predictions)\n",
    "print(\"Naive Bayes Accuracy:\", naive_bayes_accuracy)"
   ]
  },
  {
   "cell_type": "code",
   "execution_count": 65,
   "id": "22985983-168c-463e-b782-1cfa64a51fc6",
   "metadata": {},
   "outputs": [
    {
     "name": "stdout",
     "output_type": "stream",
     "text": [
      "Classification Report for Naive Bayes:\n",
      "              precision    recall  f1-score   support\n",
      "\n",
      "  Irrelevant       0.33      0.43      0.37       171\n",
      "    Negative       0.51      0.59      0.55       266\n",
      "     Neutral       0.51      0.48      0.49       285\n",
      "    Positive       0.53      0.40      0.46       277\n",
      "\n",
      "    accuracy                           0.48       999\n",
      "   macro avg       0.47      0.47      0.47       999\n",
      "weighted avg       0.49      0.48      0.48       999\n",
      "\n"
     ]
    }
   ],
   "source": [
    "print(\"Classification Report for Naive Bayes:\")\n",
    "print(classification_report(y_val, naive_bayes_predictions))"
   ]
  },
  {
   "cell_type": "code",
   "execution_count": 66,
   "id": "6aa9e602-7f61-4e4e-8a87-2a730af87131",
   "metadata": {},
   "outputs": [],
   "source": [
    "logistic_regression_classifier = LogisticRegression(max_iter=1000)\n",
    "logistic_regression_classifier.fit(X_train, y_train)\n",
    "logistic_regression_predictions = logistic_regression_classifier.predict(X_val)"
   ]
  },
  {
   "cell_type": "code",
   "execution_count": 67,
   "id": "749d3881-664e-45ea-9253-c1f24d5dc32d",
   "metadata": {},
   "outputs": [
    {
     "name": "stdout",
     "output_type": "stream",
     "text": [
      "Logistic Regression Accuracy: 0.5505505505505506\n"
     ]
    }
   ],
   "source": [
    "logistic_regression_accuracy = accuracy_score(y_val, logistic_regression_predictions)\n",
    "print(\"Logistic Regression Accuracy:\", logistic_regression_accuracy)"
   ]
  },
  {
   "cell_type": "code",
   "execution_count": 68,
   "id": "1412d653-be78-409e-846d-997b093e8a27",
   "metadata": {},
   "outputs": [
    {
     "name": "stdout",
     "output_type": "stream",
     "text": [
      "\n",
      "Classification Report for Logistic Regression:\n",
      "              precision    recall  f1-score   support\n",
      "\n",
      "  Irrelevant       0.50      0.16      0.24       171\n",
      "    Negative       0.53      0.70      0.60       266\n",
      "     Neutral       0.57      0.57      0.57       285\n",
      "    Positive       0.57      0.62      0.60       277\n",
      "\n",
      "    accuracy                           0.55       999\n",
      "   macro avg       0.54      0.51      0.50       999\n",
      "weighted avg       0.55      0.55      0.53       999\n",
      "\n"
     ]
    }
   ],
   "source": [
    "print(\"\\nClassification Report for Logistic Regression:\")\n",
    "print(classification_report(y_val, logistic_regression_predictions))"
   ]
  },
  {
   "cell_type": "code",
   "execution_count": 69,
   "id": "8483db26-526d-4345-84a0-d35ae7735bd3",
   "metadata": {},
   "outputs": [
    {
     "name": "stderr",
     "output_type": "stream",
     "text": [
      "C:\\Users\\USER\\AppData\\Local\\Programs\\Python\\Python312\\Lib\\site-packages\\sklearn\\ensemble\\_weight_boosting.py:519: FutureWarning: The SAMME.R algorithm (the default) is deprecated and will be removed in 1.6. Use the SAMME algorithm to circumvent this warning.\n",
      "  warnings.warn(\n"
     ]
    }
   ],
   "source": [
    "adaboost_classifier = AdaBoostClassifier(n_estimators=100)\n",
    "adaboost_classifier.fit(X_train, y_train)\n",
    "adaboost_predictions = adaboost_classifier.predict(X_val)"
   ]
  },
  {
   "cell_type": "code",
   "execution_count": 70,
   "id": "e4cfb4af-11e6-4701-8171-8f084ac08117",
   "metadata": {},
   "outputs": [
    {
     "name": "stdout",
     "output_type": "stream",
     "text": [
      "AdaBoost Accuracy: 0.5185185185185185\n"
     ]
    }
   ],
   "source": [
    "adaboost_accuracy = accuracy_score(y_val, adaboost_predictions)\n",
    "print(\"AdaBoost Accuracy:\", adaboost_accuracy)"
   ]
  },
  {
   "cell_type": "code",
   "execution_count": 71,
   "id": "92cbcc68-92d6-4bcf-901c-3a97754c460b",
   "metadata": {},
   "outputs": [
    {
     "name": "stdout",
     "output_type": "stream",
     "text": [
      "\n",
      "Classification Report for AdaBoost:\n",
      "              precision    recall  f1-score   support\n",
      "\n",
      "  Irrelevant       0.39      0.19      0.26       171\n",
      "    Negative       0.52      0.71      0.60       266\n",
      "     Neutral       0.55      0.51      0.53       285\n",
      "    Positive       0.52      0.55      0.54       277\n",
      "\n",
      "    accuracy                           0.52       999\n",
      "   macro avg       0.50      0.49      0.48       999\n",
      "weighted avg       0.51      0.52      0.50       999\n",
      "\n"
     ]
    }
   ],
   "source": [
    "print(\"\\nClassification Report for AdaBoost:\")\n",
    "print(classification_report(y_val, adaboost_predictions))"
   ]
  },
  {
   "cell_type": "code",
   "execution_count": 72,
   "id": "86f2dc6d-b17e-47e4-84d0-c3afa6b5fc3c",
   "metadata": {},
   "outputs": [
    {
     "data": {
      "image/png": "[encoded data removed]",
      "text/plain": [
       "<Figure size 1000x600 with 1 Axes>"
      ]
     },
     "metadata": {},
     "output_type": "display_data"
    }
   ],
   "source": [
    "import matplotlib.pyplot as plt\n",
    "\n",
    "# Assuming you have calculated accuracy scores for each model\n",
    "models = ['SVM', 'Naive Bayes', 'Logistic Regression', 'AdaBoost']\n",
    "accuracies = [svm_accuracy, naive_bayes_accuracy, logistic_regression_accuracy, adaboost_accuracy]\n",
    "\n",
    "# Plot\n",
    "plt.figure(figsize=(10, 6))\n",
    "plt.bar(models, accuracies, color='pink')\n",
    "plt.title('Accuracy Scores of Different Models')\n",
    "plt.xlabel('Model')\n",
    "plt.ylabel('Accuracy')\n",
    "plt.ylim(0, 1)  # Set y-axis limit to range between 0 and 1\n",
    "plt.show()\n"
   ]
  },
  {
   "cell_type": "markdown",
   "id": "eaa32198-e6a2-4e35-a30e-426840ebc639",
   "metadata": {},
   "source": [
    "## Interpretation\n",
    "\n",
    "### Logistic Regression and SVM demonstrate superior accuracy and classification metrics compared to Naive Bayes and AdaBoost. Despite this, AdaBoost and Naive Bayes offer valuable insights, especially in classifying majority classes. When selecting the optimal model for deployment, it is crucial to consider task-specific requirements and the balance between precision, recall, and accuracy.\n",
    "\n"
   ]
  },
  {
   "cell_type": "code",
   "execution_count": null,
   "id": "b62eecc4-e250-49f3-b819-be22f4909638",
   "metadata": {},
   "outputs": [],
   "source": []
  }
 ],
 "metadata": {
  "kernelspec": {
   "display_name": "Python 3 (ipykernel)",
   "language": "python",
   "name": "python3"
  },
  "language_info": {
   "codemirror_mode": {
    "name": "ipython",
    "version": 3
   },
   "file_extension": ".py",
   "mimetype": "text/x-python",
   "name": "python",
   "nbconvert_exporter": "python",
   "pygments_lexer": "ipython3",
   "version": "3.12.2"
  }
 },
 "nbformat": 4,
 "nbformat_minor": 5
}
